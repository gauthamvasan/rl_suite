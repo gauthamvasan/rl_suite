{
 "cells": [
  {
   "cell_type": "code",
   "execution_count": 1,
   "id": "ad832203-9f26-4a2e-93d4-0ec75dbc77c2",
   "metadata": {},
   "outputs": [
    {
     "name": "stderr",
     "output_type": "stream",
     "text": [
      "/home/vasan/src/rtrl/lib/python3.8/site-packages/tqdm/auto.py:22: TqdmWarning: IProgress not found. Please update jupyter and ipywidgets. See https://ipywidgets.readthedocs.io/en/stable/user_install.html\n",
      "  from .autonotebook import tqdm as notebook_tqdm\n"
     ]
    },
    {
     "name": "stdout",
     "output_type": "stream",
     "text": [
      "The history saving thread hit an unexpected error (OperationalError('database is locked')).History will not be written to the database.\n",
      "pygame 2.1.2 (SDL 2.0.16, Python 3.8.10)\n",
      "Hello from the pygame community. https://www.pygame.org/contribute.html\n"
     ]
    }
   ],
   "source": [
    "import argparse\n",
    "import pickle\n",
    "import torch\n",
    "import os\n",
    "import glob\n",
    "import re\n",
    "import warnings\n",
    "warnings.simplefilter(action='ignore', category=FutureWarning)\n",
    "\n",
    "import seaborn as sns\n",
    "import numpy as np\n",
    "import matplotlib.pyplot as plt\n",
    "from matplotlib import colors as mcolors\n",
    "import pandas as pd\n",
    "from pathlib import Path\n",
    "from statistics import mean\n",
    "\n",
    "from matplotlib.patches import Patch\n",
    "from matplotlib.lines import Line2D\n",
    "from beautifultable import BeautifulTable\n",
    "from pathlib import Path\n",
    "from incremental_rl.train import IncrementalExpt, set_one_thread\n",
    "from sys import platform\n",
    "if platform == \"darwin\":\n",
    "    import matplotlib as mpl\n",
    "    mpl.use(\"Qt5Agg\")\n",
    "    \n",
    "from rl_suite.algo.mlp_policies import SquashedGaussianMLPActor\n",
    "from rl_suite.misc.dm_reacher_comparisons import FixedTimeLimitReacher\n",
    "\n",
    "    \n",
    "# colors = dict(mcolors.BASE_COLORS, **mcolors.CSS4_COLORS)\n",
    "colors = dict(mcolors.BASE_COLORS, **mcolors.XKCD_COLORS)\n",
    "colors = list(colors.keys())\n",
    "colors.remove('w')"
   ]
  },
  {
   "cell_type": "code",
   "execution_count": 2,
   "id": "3ff49be4-c4b8-4d6d-ba2c-3df3c34ee5cd",
   "metadata": {},
   "outputs": [],
   "source": [
    "# Set dimensions in the background of matplotlib. Call both functions for pretty plots :) \n",
    "\n",
    "def setsizes():\n",
    "    plt.rcParams['axes.linewidth'] = 1.0\n",
    "    plt.rcParams['lines.markeredgewidth'] = 1.0\n",
    "    plt.rcParams['lines.markersize'] = 3\n",
    "\n",
    "    plt.rcParams['xtick.labelsize'] = 14.0\n",
    "    plt.rcParams['ytick.labelsize'] = 14.0\n",
    "    plt.rcParams['xtick.direction'] = \"out\"\n",
    "    plt.rcParams['ytick.direction'] = \"in\"\n",
    "    plt.rcParams['lines.linewidth'] = 3.0\n",
    "    plt.rcParams['ytick.minor.pad'] = 50.0\n",
    "\n",
    "    # https://tex.stackexchange.com/questions/18687/how-to-generate-pdf-without-any-type3-fonts\n",
    "    plt.rcParams['pdf.fonttype'] = 42   \n",
    "\n",
    "def setaxes():\n",
    "    plt.gcf().subplots_adjust(bottom=0.2)\n",
    "    plt.gcf().subplots_adjust(left=0.2)\n",
    "    ax = plt.gca()\n",
    "    ax.spines['right'].set_color('none')\n",
    "    ax.spines['top'].set_color('none')\n",
    "    # ax.spines['left'].set_color('none')\n",
    "    ax.xaxis.set_ticks_position('bottom')\n",
    "    ax.yaxis.set_ticks_position('left')\n",
    "    ax.tick_params(axis='both', direction='out', which='minor', width=2, length=3,\n",
    "                   labelsize=12, pad=8)\n",
    "    ax.tick_params(axis='both', direction='out', which='major', width=2, length=8,\n",
    "                   labelsize=12, pad=8)\n",
    "    ax.spines['left'].set_linewidth(2)\n",
    "    ax.spines['bottom'].set_linewidth(2)\n",
    "    ax.spines['right'].set_linewidth(2)\n",
    "    ax.spines['top'].set_linewidth(2)\n",
    "    for tick in ax.xaxis.get_major_ticks():\n",
    "        # tick.label.set_fontsize(getxticklabelsize())\n",
    "        tick.label.set_fontsize(14)\n",
    "    for tick in ax.yaxis.get_major_ticks():\n",
    "        # tick.label.set_fontsize(getxticklabelsize())\n",
    "        tick.label.set_fontsize(14)\n",
    "\n",
    "def plt_formatter():\n",
    "    setsizes()\n",
    "    setaxes()"
   ]
  },
  {
   "cell_type": "code",
   "execution_count": 5,
   "id": "6471adcc-6a67-4b15-ab55-8617e0ab4068",
   "metadata": {},
   "outputs": [],
   "source": [
    "def smoothed_curve(returns, ep_lens, x_tick=5000, window_len=5000):\n",
    "    \"\"\"\n",
    "    Args:\n",
    "        returns: 1-D numpy array with episodic returs\n",
    "        ep_lens: 1-D numpy array with episodic returs\n",
    "        x_tick (int): Bin size\n",
    "        window_len (int): Length of averaging window\n",
    "    Returns:\n",
    "        A numpy array\n",
    "    \"\"\"\n",
    "    rets = []\n",
    "    x = []\n",
    "    cum_episode_lengths = np.cumsum(ep_lens)\n",
    "\n",
    "    if cum_episode_lengths[-1] >= x_tick:\n",
    "        y = cum_episode_lengths[-1] + 1\n",
    "        steps_show = np.arange(x_tick, y, x_tick)\n",
    "\n",
    "        for i in range(len(steps_show)):\n",
    "            rets_in_window = returns[(cum_episode_lengths > max(0, x_tick * (i + 1) - window_len)) *\n",
    "                                     (cum_episode_lengths < x_tick * (i + 1))]\n",
    "            if rets_in_window.any():\n",
    "                rets.append(np.mean(rets_in_window))\n",
    "                x.append((i+1) * x_tick)\n",
    "\n",
    "    return np.array(rets), np.array(x)\n",
    "\n",
    "def human_format_numbers(num, use_float=False):\n",
    "    # Make human readable short-forms for large numbers\n",
    "    magnitude = 0\n",
    "    while abs(num) >= 1000:\n",
    "        magnitude += 1\n",
    "        num /= 1000.0\n",
    "    # add more suffixes if you need them\n",
    "    if use_float:\n",
    "        return '%.2f%s' % (num, ['', 'K', 'M', 'G', 'T', 'P'][magnitude])\n",
    "    return '%d%s' % (num, ['', 'K', 'M', 'G', 'T', 'P'][magnitude])\n",
    "\n",
    "\n",
    "def set_labels(title, xlabel=\"Timesteps\", ylabel=\"Return\", labelpad=25):\n",
    "    plt.title(title, fontsize=16)\n",
    "    plt.xlabel(xlabel, fontsize=14)\n",
    "    h = plt.ylabel(ylabel, fontsize=14, labelpad=labelpad)\n",
    "    h.set_rotation(0)\n",
    "    (ticks, texts) = plt.xticks()\n",
    "    try:\n",
    "        new_labels = [human_format_numbers(int(k.get_text())) for k in texts]\n",
    "    except:\n",
    "        new_labels = [human_format_numbers(int(k)) for k in ticks]\n",
    "    plt.xticks(ticks=ticks, labels=new_labels)\n",
    "    plt.grid()\n",
    "    plt.tight_layout()"
   ]
  },
  {
   "cell_type": "code",
   "execution_count": 11,
   "id": "af87fb9e-71f4-405c-b018-46d65dc6cb3a",
   "metadata": {},
   "outputs": [
    {
     "name": "stderr",
     "output_type": "stream",
     "text": [
      "/tmp/ipykernel_102408/4255235102.py:26: UserWarning: loadtxt: Empty input file: \"/home/vasan/scratch/tro_paper/point_maze_min_time_sparse/2023-08-03-20_57_59_seed-28_returns.txt\"\n",
      "  data = np.loadtxt(fp)\n"
     ]
    },
    {
     "name": "stdout",
     "output_type": "stream",
     "text": [
      "Run /home/vasan/scratch/tro_paper/point_maze_min_time_sparse/2023-08-03-20_57_59_seed-28_returns.txt incomplete. It was not added to the plot\n"
     ]
    },
    {
     "name": "stderr",
     "output_type": "stream",
     "text": [
      "/tmp/ipykernel_102408/4255235102.py:26: UserWarning: loadtxt: Empty input file: \"/home/vasan/scratch/tro_paper/point_maze_min_time_sparse/2023-08-03-17_45_38_seed-21_returns.txt\"\n",
      "  data = np.loadtxt(fp)\n"
     ]
    },
    {
     "name": "stdout",
     "output_type": "stream",
     "text": [
      "Run /home/vasan/scratch/tro_paper/point_maze_min_time_sparse/2023-08-03-17_45_38_seed-21_returns.txt incomplete. It was not added to the plot\n",
      "{'point_maze_min_time_sparse': 'darkorange'}\n"
     ]
    },
    {
     "data": {
      "image/png": "[encoded data removed]",
      "text/plain": [
       "<Figure size 432x288 with 1 Axes>"
      ]
     },
     "metadata": {
      "needs_background": "light"
     },
     "output_type": "display_data"
    }
   ],
   "source": [
    "setsizes()\n",
    "setaxes()\n",
    "df = pd.DataFrame(columns=[\"step\", \"avg_ret\", \"seed\", \"timeout\"])\n",
    "legend_elements = []\n",
    "\n",
    "color_palette = {\n",
    "    \"point_maze_min_time_sparse\": \"darkorange\",\n",
    "    # \"point_maze_T_sparse\": \"mediumaquamarine\",\n",
    "}\n",
    "\n",
    "###\n",
    "# color_palette = {\n",
    "#     \"point_maze_T_dense\": \"darkmagenta\",\n",
    "#     \"point_maze_open_dense\": \"royalblue\",\n",
    "# }\n",
    "\n",
    "basepath = \"/home/vasan/scratch/tro_paper\"\n",
    "\n",
    "for env, color in color_palette.items():\n",
    "    fp = f\"{basepath}/{env}/*.txt\"\n",
    "    all_paths = glob.glob(fp)\n",
    "    assert len(all_paths) > 0\n",
    "    counter = 0\n",
    "    for fp in all_paths:\n",
    "        counter += 1\n",
    "        data = np.loadtxt(fp)\n",
    "        try:\n",
    "            rets, timesteps = smoothed_curve(data[1], data[0], x_tick=5000, window_len=5000)\n",
    "            for r, t in zip(rets, timesteps):\n",
    "                df = pd.concat([df, pd.DataFrame.from_records([{'env': env, 'seed':counter, 'step':t, 'avg_ret':r}])])\n",
    "        except IndexError as e:\n",
    "            print(f\"Run {fp} incomplete. It was not added to the plot\")\n",
    "    legend_elements.append(Line2D([0], [0], color=color, lw=4, label=env),)\n",
    "    \n",
    "\n",
    "    # Plot\n",
    "# for env in envs:\n",
    "# plt.figure()\n",
    "plt_formatter()\n",
    "plt.xlim([0, 200000])\n",
    "plt.ylim([-1000, 0])\n",
    "# sns.lineplot(x=\"step\", y='avg_ret', data=df[df['env']==env], hue='env', palette=color_palette)\n",
    "print(color_palette)\n",
    "sns.lineplot(x=\"step\", y='avg_ret', data=df, hue='env', palette=color_palette)\n",
    "set_labels(\"Point Maze\", labelpad=25)\n",
    "\n",
    "# plt.legend(handles=legend_elements, loc='lower right')\n",
    "plt.legend(handles=legend_elements, loc='best')\n",
    "plt.tight_layout()\n",
    "plt.locator_params(axis='x', nbins=8)\n",
    "# plt.savefig(title+'.pdf', dpi=200)\n",
    "plt.show()\n",
    "plt.close()"
   ]
  },
  {
   "cell_type": "code",
   "execution_count": null,
   "id": "f7f6a993-fd2f-4fd2-82b7-39cca764c4ba",
   "metadata": {},
   "outputs": [],
   "source": []
  }
 ],
 "metadata": {
  "kernelspec": {
   "display_name": "Python 3 (ipykernel)",
   "language": "python",
   "name": "python3"
  },
  "language_info": {
   "codemirror_mode": {
    "name": "ipython",
    "version": 3
   },
   "file_extension": ".py",
   "mimetype": "text/x-python",
   "name": "python",
   "nbconvert_exporter": "python",
   "pygments_lexer": "ipython3",
   "version": "3.8.10"
  }
 },
 "nbformat": 4,
 "nbformat_minor": 5
}
