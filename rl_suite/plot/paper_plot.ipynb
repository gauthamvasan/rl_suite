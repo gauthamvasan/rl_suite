{
 "cells": [
  {
   "cell_type": "code",
   "execution_count": 1,
   "id": "5eb8f3e7-1704-4189-8b26-f98fd1a820ee",
   "metadata": {},
   "outputs": [
    {
     "name": "stderr",
     "output_type": "stream",
     "text": [
      "/home/vasan/src/rtrl/lib/python3.8/site-packages/tqdm/auto.py:22: TqdmWarning: IProgress not found. Please update jupyter and ipywidgets. See https://ipywidgets.readthedocs.io/en/stable/user_install.html\n",
      "  from .autonotebook import tqdm as notebook_tqdm\n"
     ]
    },
    {
     "ename": "NameError",
     "evalue": "name 'platform' is not defined",
     "output_type": "error",
     "traceback": [
      "\u001b[0;31m---------------------------------------------------------------------------\u001b[0m",
      "\u001b[0;31mNameError\u001b[0m                                 Traceback (most recent call last)",
      "Cell \u001b[0;32mIn [1], line 13\u001b[0m\n\u001b[1;32m     11\u001b[0m \u001b[38;5;28;01mfrom\u001b[39;00m \u001b[38;5;21;01mmatplotlib\u001b[39;00m \u001b[38;5;28;01mimport\u001b[39;00m colors \u001b[38;5;28;01mas\u001b[39;00m mcolors\n\u001b[1;32m     12\u001b[0m \u001b[38;5;28;01mimport\u001b[39;00m \u001b[38;5;21;01mpandas\u001b[39;00m \u001b[38;5;28;01mas\u001b[39;00m \u001b[38;5;21;01mpd\u001b[39;00m\n\u001b[0;32m---> 13\u001b[0m \u001b[38;5;28;01mif\u001b[39;00m \u001b[43mplatform\u001b[49m \u001b[38;5;241m==\u001b[39m \u001b[38;5;124m\"\u001b[39m\u001b[38;5;124mdarwin\u001b[39m\u001b[38;5;124m\"\u001b[39m:\n\u001b[1;32m     14\u001b[0m     \u001b[38;5;28;01mimport\u001b[39;00m \u001b[38;5;21;01mmatplotlib\u001b[39;00m \u001b[38;5;28;01mas\u001b[39;00m \u001b[38;5;21;01mmpl\u001b[39;00m\n\u001b[1;32m     15\u001b[0m     mpl\u001b[38;5;241m.\u001b[39muse(\u001b[38;5;124m\"\u001b[39m\u001b[38;5;124mQt5Agg\u001b[39m\u001b[38;5;124m\"\u001b[39m)\n",
      "\u001b[0;31mNameError\u001b[0m: name 'platform' is not defined"
     ]
    }
   ],
   "source": [
    "import argparse\n",
    "import pickle\n",
    "import torch\n",
    "import os\n",
    "import glob\n",
    "import re\n",
    "\n",
    "import seaborn as sns\n",
    "import numpy as np\n",
    "import matplotlib.pyplot as plt\n",
    "from matplotlib import colors as mcolors\n",
    "import pandas as pd\n",
    "if platform == \"darwin\":\n",
    "    import matplotlib as mpl\n",
    "    mpl.use(\"Qt5Agg\")\n",
    "\n",
    "from beautifultable import BeautifulTable\n",
    "from sys import platform\n",
    "from pathlib import Path\n",
    "from incremental_rl.train import IncrementalExpt, set_one_thread\n",
    "\n",
    "\n",
    "# colors = dict(mcolors.BASE_COLORS, **mcolors.CSS4_COLORS)\n",
    "colors = dict(mcolors.BASE_COLORS, **mcolors.XKCD_COLORS)\n",
    "colors = list(colors.keys())\n",
    "colors.remove('w')"
   ]
  },
  {
   "cell_type": "code",
   "execution_count": null,
   "id": "5bfd2cd3-4228-4a6c-8b37-a1cd64e5a323",
   "metadata": {},
   "outputs": [],
   "source": [
    "# Plots hits vs timeouts\n",
    "\n",
    "### Configurable params\n",
    "env = \"acrobot\"\n",
    "bp = \"/home/vasan/src/rl_suite/rl_suite/plot\"\n",
    "fp = bp + f\"/{env}_random_stat.txt\"\n",
    "###\n",
    "\n",
    "df = pd.DataFrame(columns=[\"timeout\", \"seed\", \"hits\"])\n",
    "with open(fp, 'r') as file:\n",
    "    for line in file.readlines():\n",
    "        match = re.match(r\"timeout=(\\d+), seed=(\\d+): (\\d+)\", line)\n",
    "        timeout = match.group(1)\n",
    "        seed = match.group(2)\n",
    "        hits = match.group(3)\n",
    "        df = pd.concat([df, pd.DataFrame.from_records([{'timeout': int(timeout), 'seed':int(seed), 'hits': int(hits)}])])\n",
    "        \n",
    "plt.title(env)\n",
    "plt.xlabel('Timeout')\n",
    "plt.ylabel('Hits')\n",
    "ax = sns.barplot(data=df, x='timeout', y='hits')\n",
    "\n",
    "# Labels over each bar\n",
    "# ax.bar_label(ax.containers[0], fmt=\"%.2f\", label_type=\"center\")\n",
    "    \n",
    "# plt.savefig(f'{env}.png')\n",
    "plt.show()\n",
    "plt.close()\n"
   ]
  },
  {
   "cell_type": "code",
   "execution_count": 11,
   "id": "35970379-b3c6-4f77-9073-c0fb7d06695e",
   "metadata": {},
   "outputs": [
    {
     "data": {
      "image/png": "[encoded data removed]",
      "text/plain": [
       "<Figure size 432x288 with 1 Axes>"
      ]
     },
     "metadata": {
      "needs_background": "light"
     },
     "output_type": "display_data"
    }
   ],
   "source": []
  },
  {
   "cell_type": "code",
   "execution_count": null,
   "id": "e1bac82d-34c2-4f63-aed2-bd127ecc5f8d",
   "metadata": {},
   "outputs": [],
   "source": [
    "import matplotlib.pyplot as plt\n",
    "\n",
    "color_dict = {\n",
    "    # simulation colors\n",
    "    1:      'tab:blue',\n",
    "    2:      'tab:orange',\n",
    "    5:      'tab:green',\n",
    "    10:     'tab:red',\n",
    "    25:     'tab:purple', \n",
    "    50:     'tab:brown', \n",
    "    100:    'tab:pink', \n",
    "    500:    'tab:gray', \n",
    "    1000:   'tab:olive', \n",
    "    5000:   'tab:cyan',\n",
    "    # real robot colors\n",
    "    '3s':      'tab:blue',\n",
    "    '6s':      'tab:orange',\n",
    "    '15s':     'tab:red',\n",
    "    '30s':     'tab:green',\n",
    "}\n",
    "\n",
    "def human_format_numbers(num, use_float=False):\n",
    "    # Make human readable short-forms for large numbers\n",
    "    magnitude = 0\n",
    "    while abs(num) >= 1000:\n",
    "        magnitude += 1\n",
    "        num /= 1000.0\n",
    "    # add more suffixes if you need them\n",
    "    if use_float:\n",
    "        return '%.2f%s' % (num, ['', 'K', 'M', 'G', 'T', 'P'][magnitude])\n",
    "    return '%d%s' % (num, ['', 'K', 'M', 'G', 'T', 'P'][magnitude])\n",
    "\n",
    "def setsizes():\n",
    "    plt.rcParams['axes.linewidth'] = 1.0\n",
    "    plt.rcParams['lines.markeredgewidth'] = 1.0\n",
    "    plt.rcParams['lines.markersize'] = 3\n",
    "\n",
    "    plt.rcParams['xtick.labelsize'] = 14.0\n",
    "    plt.rcParams['ytick.labelsize'] = 14.0\n",
    "    plt.rcParams['xtick.direction'] = \"out\"\n",
    "    plt.rcParams['ytick.direction'] = \"in\"\n",
    "    plt.rcParams['lines.linewidth'] = 3.0\n",
    "    plt.rcParams['ytick.minor.pad'] = 50.0\n",
    "\n",
    "    # https://tex.stackexchange.com/questions/18687/how-to-generate-pdf-without-any-type3-fonts\n",
    "    plt.rcParams['pdf.fonttype'] = 42   \n",
    "\n",
    "def setaxes():\n",
    "    plt.gcf().subplots_adjust(bottom=0.2)\n",
    "    plt.gcf().subplots_adjust(left=0.2)\n",
    "    ax = plt.gca()\n",
    "    ax.spines['right'].set_color('none')\n",
    "    ax.spines['top'].set_color('none')\n",
    "    # ax.spines['left'].set_color('none')\n",
    "    ax.xaxis.set_ticks_position('bottom')\n",
    "    ax.yaxis.set_ticks_position('left')\n",
    "    ax.tick_params(axis='both', direction='out', which='minor', width=2, length=3,\n",
    "                   labelsize=12, pad=8)\n",
    "    ax.tick_params(axis='both', direction='out', which='major', width=2, length=8,\n",
    "                   labelsize=12, pad=8)\n",
    "    ax.spines['left'].set_linewidth(2)\n",
    "    ax.spines['bottom'].set_linewidth(2)\n",
    "    ax.spines['right'].set_linewidth(2)\n",
    "    ax.spines['top'].set_linewidth(2)\n",
    "    for tick in ax.xaxis.get_major_ticks():\n",
    "        # tick.label.set_fontsize(getxticklabelsize())\n",
    "        tick.label.set_fontsize(14)\n",
    "    for tick in ax.yaxis.get_major_ticks():\n",
    "        # tick.label.set_fontsize(getxticklabelsize())\n",
    "        tick.label.set_fontsize(14)\n",
    "\n",
    "def set_curves():\n",
    "    setsizes()\n",
    "    setaxes()\n",
    "\n",
    "def set_labels(title, xlabel=\"Timesteps\", ylable=\"Return\"):\n",
    "    plt.title(title, fontsize=16)\n",
    "    plt.xlabel(xlabel, fontsize=14)\n",
    "    h = plt.ylabel(ylable, fontsize=14, labelpad=25)\n",
    "    h.set_rotation(0)\n",
    "    (ticks, texts) = plt.xticks()\n",
    "    try:\n",
    "        new_labels = [human_format_numbers(int(k.get_text())) for k in texts]\n",
    "    except:\n",
    "        new_labels = [human_format_numbers(int(k)) for k in ticks]\n",
    "    plt.xticks(ticks=ticks, labels=new_labels)\n",
    "    plt.grid()\n",
    "    plt.tight_layout()\n"
   ]
  }
 ],
 "metadata": {
  "kernelspec": {
   "display_name": "Python 3 (ipykernel)",
   "language": "python",
   "name": "python3"
  },
  "language_info": {
   "codemirror_mode": {
    "name": "ipython",
    "version": 3
   },
   "file_extension": ".py",
   "mimetype": "text/x-python",
   "name": "python",
   "nbconvert_exporter": "python",
   "pygments_lexer": "ipython3",
   "version": "3.8.10"
  }
 },
 "nbformat": 4,
 "nbformat_minor": 5
}
